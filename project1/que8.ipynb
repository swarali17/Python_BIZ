{
 "cells": [
  {
   "cell_type": "markdown",
   "metadata": {},
   "source": [
    "#### Q.8)Based on the modules generate proper logger to all files and use proper classes and implement encapsulation, abstract classes, inheritance and polymorphism wherever it is needed. "
   ]
  },
  {
   "cell_type": "code",
   "execution_count": 1,
   "metadata": {},
   "outputs": [
    {
     "name": "stdout",
     "output_type": "stream",
     "text": [
      "Name Validation: VALID\n",
      "Password Validation: VALID\n",
      "Email Validation: INVALID: Email must be a valid Gmail or Yahoo address.\n"
     ]
    }
   ],
   "source": [
    "import re\n",
    "import sys\n",
    "import logging\n",
    "import os\n",
    "from datetime import datetime\n",
    " \n",
    "class Logger:\n",
    "    def __init__(self, user_name):\n",
    "        os.makedirs(\"logs\", exist_ok=True)\n",
    "        timestamp = datetime.now().strftime(\"%Y%m%d_%H%M%S\")\n",
    "        self.log_file = f\"logs/{user_name}_session_{timestamp}.log\"\n",
    "        self.logger = logging.getLogger(user_name)\n",
    "        if not self.logger.handlers:\n",
    "            handler = logging.FileHandler(self.log_file, 'w')\n",
    "            handler.setFormatter(logging.Formatter(\"%(asctime)s - %(levelname)s - %(message)s\"))\n",
    "            self.logger.addHandler(handler)\n",
    "        self.logger.setLevel(logging.INFO)\n",
    "        self.logger.info(\"Logger initialized.\")\n",
    " \n",
    "    def get_logger(self):\n",
    "        return self.logger\n",
    " \n",
    "class Validator:\n",
    "    \"\"\"Base Validator Class implementing validation methods.\"\"\"\n",
    " \n",
    "    @staticmethod\n",
    "    def validate_name(name):\n",
    "        try:\n",
    "            if name.isalpha():\n",
    "                return True, \"VALID\"\n",
    "            else:\n",
    "                raise ValueError(\"INVALID: Name should only contain alphabetic characters.\")\n",
    "        except Exception as e:\n",
    "            return False, str(e)\n",
    " \n",
    "    @staticmethod\n",
    "    def validate_password(password):\n",
    "        if re.fullmatch(r\"[A-Za-z0-9]*[@!#%^&][A-Za-z0-9]*\", password):\n",
    "            return True, \"VALID\"\n",
    "        else:\n",
    "            return False, (\n",
    "                \"INVALID: Password must contain at least one special character \"\n",
    "                \"(@, !, #, %, &, ^) and alphanumeric characters.\"\n",
    "            )\n",
    " \n",
    "class EmailValidator(Validator):\n",
    "    \"\"\"Derived Validator Class for Email Validation.\"\"\"\n",
    " \n",
    "    @staticmethod\n",
    "    def validate_email(email):\n",
    "        gmail_pattern = r\"^[a-z]*[0-9]*@gmail\\.com$\"\n",
    "        yahoo_pattern = r\"^[a-z]*[0-9]*@yahoo\\.com$\"\n",
    "        if re.match(gmail_pattern, email) or re.match(yahoo_pattern, email):\n",
    "            return True, \"VALID\"\n",
    "        else:\n",
    "            return False, \"INVALID: Email must be a valid Gmail or Yahoo address.\"\n",
    " \n",
    "if __name__ == \"__main__\":\n",
    "    # Initialize logger\n",
    "    user_name = input(\"Enter your username for logging: \")\n",
    "    logger = Logger(user_name).get_logger()\n",
    " \n",
    "    # Name validation\n",
    "    name = input(\"Enter your name: \")\n",
    "    is_valid_name, name_message = Validator.validate_name(name)\n",
    "    logger.info(f\"Name: {name}, Validation Result: {name_message}\")\n",
    "    print(f\"Name Validation: {name_message}\")\n",
    " \n",
    "    # Password validation\n",
    "    password = input(\"Enter your password: \")\n",
    "    is_valid_password, password_message = Validator.validate_password(password)\n",
    "    logger.info(f\"Password Validation Result: {password_message}\")\n",
    "    print(f\"Password Validation: {password_message}\")\n",
    " \n",
    "    # Email validation\n",
    "    email = input(\"Enter your email ID: \")\n",
    "    is_valid_email, email_message = EmailValidator.validate_email(email)\n",
    "    logger.info(f\"Email: {email}, Validation Result: {email_message}\")\n",
    "    print(f\"Email Validation: {email_message}\")"
   ]
  },
  {
   "cell_type": "code",
   "execution_count": null,
   "metadata": {},
   "outputs": [],
   "source": []
  }
 ],
 "metadata": {
  "kernelspec": {
   "display_name": "Python 3",
   "language": "python",
   "name": "python3"
  },
  "language_info": {
   "codemirror_mode": {
    "name": "ipython",
    "version": 3
   },
   "file_extension": ".py",
   "mimetype": "text/x-python",
   "name": "python",
   "nbconvert_exporter": "python",
   "pygments_lexer": "ipython3",
   "version": "3.12.3"
  }
 },
 "nbformat": 4,
 "nbformat_minor": 2
}
