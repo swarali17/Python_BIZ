{
 "cells": [
  {
   "cell_type": "markdown",
   "metadata": {},
   "source": [
    "#### Q.4)Based on database ask user to enter the values and store the same in the variable with validation "
   ]
  },
  {
   "cell_type": "code",
   "execution_count": 1,
   "metadata": {},
   "outputs": [],
   "source": [
    "import re\n",
    "import sys"
   ]
  },
  {
   "cell_type": "code",
   "execution_count": 2,
   "metadata": {},
   "outputs": [],
   "source": [
    "def name(input_string):\n",
    "    try:\n",
    "        pattern=\"^[A-z][a-z]* [A-z][a-z]* [A-z][a-z]*\"\n",
    "        if re.match(pattern,input_string):\n",
    "            message = \"go ahead\"\n",
    "            flag = True\n",
    "        else:\n",
    "            flag = False\n",
    "            message = \"invalid\"\n",
    "            raise Exception(\"Enter your full name\")\n",
    "    except:\n",
    "        print(sys.exc_info()[1])\n",
    "    return flag,message\n",
    "\n",
    "def mail(input_mail):\n",
    "    try:\n",
    "        pattern1=\"^[a-z]*@gmail.com$\"\n",
    "        pattern2=\"^[a-z]*@yahoo.com$\"\n",
    "        if (re.match(pattern1,input_mail)) or (re.match(pattern2,input_mail)) :\n",
    "            message = \"valid mail\"\n",
    "            flag = True\n",
    "        else:\n",
    "            flag = False\n",
    "            message = \"invalid\"\n",
    "            raise Exception (\"enter a valid mail\")\n",
    "    except:\n",
    "        print(sys.exc_info()[1])\n",
    "    return flag,message\n",
    "\n",
    "def password(input_pass):\n",
    "    if re.fullmatch(r\"[A-Za-z0-9]*[@!#%^&][A-Za-z0-9]*\", input_pass):\n",
    "        return True, \"VALID\"\n",
    "    else:\n",
    "        return False, (\n",
    "            \"INVALID: Password must contain at least one special character \"\n",
    "            \"(@, !, #, %, &, ^) and alphanumeric characters.\"\n",
    "        )"
   ]
  },
  {
   "cell_type": "code",
   "execution_count": 3,
   "metadata": {},
   "outputs": [],
   "source": [
    "with open('Cicket_data.log','w') as f:\n",
    "    input_string=input(\"enter your full name\")\n",
    "    name(input_string)\n",
    "    f.write(\"Name validation done\")\n",
    "    input_mail=input(\"enter your mail\")\n",
    "    mail(input_mail)\n",
    "    f.write(\"\\nmail validation done\")\n",
    "    input_pass=input(\"enter your password\")\n",
    "    password(input_pass)\n",
    "    f.write(\"\\npassword validation done\")"
   ]
  },
  {
   "cell_type": "code",
   "execution_count": null,
   "metadata": {},
   "outputs": [],
   "source": []
  }
 ],
 "metadata": {
  "kernelspec": {
   "display_name": "Python 3",
   "language": "python",
   "name": "python3"
  },
  "language_info": {
   "codemirror_mode": {
    "name": "ipython",
    "version": 3
   },
   "file_extension": ".py",
   "mimetype": "text/x-python",
   "name": "python",
   "nbconvert_exporter": "python",
   "pygments_lexer": "ipython3",
   "version": "3.12.3"
  }
 },
 "nbformat": 4,
 "nbformat_minor": 2
}
