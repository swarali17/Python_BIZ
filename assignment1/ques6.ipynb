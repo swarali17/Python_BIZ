{
 "cells": [
  {
   "cell_type": "markdown",
   "metadata": {},
   "source": [
    "#### Q.6) Calculate the age based on the date entereed "
   ]
  },
  {
   "cell_type": "code",
   "execution_count": 1,
   "metadata": {},
   "outputs": [],
   "source": [
    "from datetime import datetime"
   ]
  },
  {
   "cell_type": "code",
   "execution_count": 2,
   "metadata": {},
   "outputs": [
    {
     "name": "stdout",
     "output_type": "stream",
     "text": [
      "2001-02-17 00:00:00\n",
      "2025-01-21 15:00:01.276251\n",
      "my age is  23\n"
     ]
    }
   ],
   "source": [
    "def count_age():\n",
    "    n=input(\"enter your birthdate\")\n",
    "    DOB=datetime.strptime(n,\"%Y-%m-%d\")\n",
    "    today=datetime.now()\n",
    "    print(DOB)\n",
    "    print(today)\n",
    "    age=today.year-DOB.year\n",
    "    if (today.month,today.day) < (DOB.month,DOB.day):\n",
    "        age=age-1\n",
    "    print(\"my age is \",age)\n",
    "\n",
    "\n",
    "\n",
    "count_age()"
   ]
  },
  {
   "cell_type": "code",
   "execution_count": null,
   "metadata": {},
   "outputs": [],
   "source": []
  }
 ],
 "metadata": {
  "kernelspec": {
   "display_name": "Python 3",
   "language": "python",
   "name": "python3"
  },
  "language_info": {
   "codemirror_mode": {
    "name": "ipython",
    "version": 3
   },
   "file_extension": ".py",
   "mimetype": "text/x-python",
   "name": "python",
   "nbconvert_exporter": "python",
   "pygments_lexer": "ipython3",
   "version": "3.12.3"
  }
 },
 "nbformat": 4,
 "nbformat_minor": 2
}
