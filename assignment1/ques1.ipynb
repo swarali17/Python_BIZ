{
 "cells": [
  {
   "cell_type": "markdown",
   "metadata": {},
   "source": [
    "#### Q.1)Create the list of mix element by asking user to enter the values. Segregate the mixed data type list into two different list "
   ]
  },
  {
   "cell_type": "code",
   "execution_count": 1,
   "metadata": {},
   "outputs": [],
   "source": [
    "l1=['c','b','a','B','C','ABC',[1,1,20,30,40],3,2,1]"
   ]
  },
  {
   "cell_type": "code",
   "execution_count": 3,
   "metadata": {},
   "outputs": [
    {
     "name": "stdout",
     "output_type": "stream",
     "text": [
      "c <class 'list'>\n",
      "b <class 'list'>\n",
      "a <class 'list'>\n",
      "B <class 'list'>\n",
      "C <class 'list'>\n",
      "ABC <class 'list'>\n",
      "[1, 1, 20, 30, 40] <class 'list'>\n",
      "3 <class 'list'>\n",
      "2 <class 'list'>\n",
      "1 <class 'list'>\n"
     ]
    }
   ],
   "source": [
    "for i in l1:\n",
    "    print(i,type(l1))\n",
    "\n"
   ]
  },
  {
   "cell_type": "code",
   "execution_count": 4,
   "metadata": {},
   "outputs": [
    {
     "name": "stdout",
     "output_type": "stream",
     "text": [
      "['c', 'b', 'a', 'B', 'C', 'ABC']\n",
      "[[1, 1, 20, 30, 40], 3, 2, 1]\n"
     ]
    }
   ],
   "source": [
    "i_char=[]\n",
    "i_num=[]\n",
    "for i in l1:\n",
    "    if type(i)==str:\n",
    "        i_char.append(i)\n",
    "    else:\n",
    "        i_num.append(i)\n",
    "print(i_char)\n",
    "print(i_num)"
   ]
  },
  {
   "cell_type": "code",
   "execution_count": null,
   "metadata": {},
   "outputs": [],
   "source": []
  }
 ],
 "metadata": {
  "kernelspec": {
   "display_name": "Python 3",
   "language": "python",
   "name": "python3"
  },
  "language_info": {
   "codemirror_mode": {
    "name": "ipython",
    "version": 3
   },
   "file_extension": ".py",
   "mimetype": "text/x-python",
   "name": "python",
   "nbconvert_exporter": "python",
   "pygments_lexer": "ipython3",
   "version": "3.12.3"
  }
 },
 "nbformat": 4,
 "nbformat_minor": 2
}
