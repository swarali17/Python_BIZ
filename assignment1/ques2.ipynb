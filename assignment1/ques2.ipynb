{
 "cells": [
  {
   "cell_type": "markdown",
   "metadata": {},
   "source": [
    "#### Q.2) User will enter the start date and end date. Ask user to enter the task to be done on weekdays. If it is weekend then no task should be allotted. "
   ]
  },
  {
   "cell_type": "code",
   "execution_count": 5,
   "metadata": {},
   "outputs": [],
   "source": [
    "from datetime import datetime\n",
    "from datetime import date \n",
    "from datetime import time\n",
    "from datetime import timedelta"
   ]
  },
  {
   "cell_type": "code",
   "execution_count": 13,
   "metadata": {},
   "outputs": [
    {
     "data": {
      "text/plain": [
       "datetime.datetime(2025, 1, 2, 0, 0)"
      ]
     },
     "execution_count": 13,
     "metadata": {},
     "output_type": "execute_result"
    }
   ],
   "source": [
    "start_date=input(\"Enter you start date in format YYYY-MM-DD\")\n",
    "str_date=datetime.strptime(start_date,\"%Y-%m-%d\")\n",
    "str_date"
   ]
  },
  {
   "cell_type": "code",
   "execution_count": null,
   "metadata": {},
   "outputs": [
    {
     "data": {
      "text/plain": [
       "datetime.datetime(2025, 1, 11, 0, 0)"
      ]
     },
     "execution_count": 10,
     "metadata": {},
     "output_type": "execute_result"
    }
   ],
   "source": [
    "end_date=input(\"Enter you end date in format YYYY-MM-DD\")\n",
    "ed_date=datetime.strptime(end_date,\"%Y-%m-%d\")\n",
    "ed_date"
   ]
  },
  {
   "cell_type": "code",
   "execution_count": 15,
   "metadata": {},
   "outputs": [
    {
     "name": "stdout",
     "output_type": "stream",
     "text": [
      "2025-01-02 00:00:00\n",
      "2025-01-08 00:00:00\n"
     ]
    }
   ],
   "source": [
    "print(str_date)\n",
    "print(ed_date)"
   ]
  },
  {
   "cell_type": "code",
   "execution_count": 16,
   "metadata": {},
   "outputs": [
    {
     "name": "stdout",
     "output_type": "stream",
     "text": [
      "2025-01-04 is a weekend.\n",
      "2025-01-05 is a weekend.\n",
      "{'2025-01-02': 'task', '2025-01-03': 'task', '2025-01-06': 'task', '2025-01-07': \"task'\", '2025-01-08': 'task'}\n"
     ]
    }
   ],
   "source": [
    "task={}\n",
    "currentdate=str_date\n",
    "while currentdate<=ed_date:\n",
    "    if currentdate.weekday() < 5:\n",
    "        task[str(currentdate.date())]=input(f\"Task for {currentdate.date()}:\")\n",
    "    else:\n",
    "        print(f\"{currentdate.date()} is a weekend.\")\n",
    "    currentdate+=timedelta(days=1)\n",
    "    \n",
    "print(task)\n",
    "        "
   ]
  },
  {
   "cell_type": "code",
   "execution_count": null,
   "metadata": {},
   "outputs": [],
   "source": []
  },
  {
   "cell_type": "code",
   "execution_count": null,
   "metadata": {},
   "outputs": [],
   "source": []
  }
 ],
 "metadata": {
  "kernelspec": {
   "display_name": "Python 3",
   "language": "python",
   "name": "python3"
  },
  "language_info": {
   "codemirror_mode": {
    "name": "ipython",
    "version": 3
   },
   "file_extension": ".py",
   "mimetype": "text/x-python",
   "name": "python",
   "nbconvert_exporter": "python",
   "pygments_lexer": "ipython3",
   "version": "3.12.3"
  }
 },
 "nbformat": 4,
 "nbformat_minor": 2
}
