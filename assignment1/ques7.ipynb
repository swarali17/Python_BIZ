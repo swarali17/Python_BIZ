{
 "cells": [
  {
   "cell_type": "markdown",
   "metadata": {},
   "source": [
    "#### Q.7)Create a logic to segregate folders based on file size. Make 3 folders small size, middle size , large size folder and transfer the files to respective folders \n",
    "\n",
    " "
   ]
  },
  {
   "cell_type": "code",
   "execution_count": 1,
   "metadata": {},
   "outputs": [],
   "source": [
    "import os\n",
    "import shutil"
   ]
  },
  {
   "cell_type": "code",
   "execution_count": 2,
   "metadata": {},
   "outputs": [
    {
     "name": "stdout",
     "output_type": "stream",
     "text": [
      "D:\\bizmetric documents\\ADHAR CARD (Back).jpeg 214.505\n",
      "D:\\bizmetric documents\\ADHAR CARD (front).jpeg 258.657\n",
      "D:\\bizmetric documents\\BACKGROUND VERIFICATION FORM.pdf 2073.86\n",
      "D:\\bizmetric documents\\bank passbook.jpg 1657.06\n",
      "D:\\bizmetric documents\\DEGREE CERTIFICATE.jpeg 211.356\n",
      "D:\\bizmetric documents\\DOCUMENTS.pdf 1151.247\n",
      "D:\\bizmetric documents\\lightbill(12_2024).jpg 3124.494\n",
      "D:\\bizmetric documents\\NDA (Biz-Metric) (1).pdf 656.33\n",
      "D:\\bizmetric documents\\PAN CARD.jpeg 780.629\n",
      "D:\\bizmetric documents\\prof photo.jpeg 407.527\n",
      "D:\\bizmetric documents\\SERVICE AGREEMENT _Swarali (1).pdf 2867.828\n",
      "D:\\bizmetric documents\\SERVICE AGREEMENT.docx 18.003\n",
      "D:\\bizmetric documents\\Swarali Vinod Mungare_Offerletter.docx 58.12\n",
      "D:\\bizmetric documents\\Swarali Vinod Mungare_Offerletter.pdf 338.184\n",
      "D:\\bizmetric documents\\SWARALI_Bizmetric Documents.zip 5693.947\n"
     ]
    }
   ],
   "source": [
    "for i in os.listdir(\"D:\\\\bizmetric documents\"):\n",
    "    filename=\"D:\\\\bizmetric documents\\\\\" + i\n",
    "    sz=os.stat(filename).st_size/1000\n",
    "\n",
    "    print(filename,sz)\n",
    "    \n",
    "    \n",
    "    if sz > 200 and sz <= 500:\n",
    "        shutil.copy(filename,'C:\\\\Users\\\\munga\\\\BIZ\\\\data1')\n",
    "    elif sz > 500 and sz <= 1000:\n",
    "        shutil.copy(filename,'C:\\\\Users\\\\munga\\\\BIZ\\\\data2')\n",
    "    else:\n",
    "        shutil.copy(filename,'C:\\\\Users\\\\munga\\\\BIZ\\\\data3')"
   ]
  },
  {
   "cell_type": "code",
   "execution_count": null,
   "metadata": {},
   "outputs": [],
   "source": []
  }
 ],
 "metadata": {
  "kernelspec": {
   "display_name": "Python 3",
   "language": "python",
   "name": "python3"
  },
  "language_info": {
   "codemirror_mode": {
    "name": "ipython",
    "version": 3
   },
   "file_extension": ".py",
   "mimetype": "text/x-python",
   "name": "python",
   "nbconvert_exporter": "python",
   "pygments_lexer": "ipython3",
   "version": "3.12.3"
  }
 },
 "nbformat": 4,
 "nbformat_minor": 2
}
