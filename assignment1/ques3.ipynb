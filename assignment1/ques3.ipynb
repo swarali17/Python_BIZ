{
 "cells": [
  {
   "cell_type": "markdown",
   "metadata": {},
   "source": [
    "### Q.3)Generate the bill with proper format to create the bill file. User may enter more than 1 element "
   ]
  },
  {
   "cell_type": "code",
   "execution_count": 2,
   "metadata": {},
   "outputs": [],
   "source": [
    "from datetime import datetime"
   ]
  },
  {
   "cell_type": "code",
   "execution_count": 1,
   "metadata": {},
   "outputs": [
    {
     "name": "stdout",
     "output_type": "stream",
     "text": [
      "dict_keys(['idli', 'pohe', 'tea', 'wadapav'])\n",
      "dict_values([30, 15, 12, 20])\n",
      "['idli', 'pohe', 'tea', 'wadapav'] [30, 15, 12, 20]\n"
     ]
    }
   ],
   "source": [
    "menu={\n",
    "    'idli': 30,\n",
    "    'pohe':15,\n",
    "    'tea':12,\n",
    "    'wadapav':20\n",
    "\n",
    "}\n",
    "\n",
    "snack=menu.keys()\n",
    "amount=menu.values()\n",
    "print(snack)\n",
    "print(amount)\n",
    "\n",
    "items=list(snack)\n",
    "prices=list(amount)\n",
    "print(items,prices)"
   ]
  },
  {
   "cell_type": "code",
   "execution_count": 6,
   "metadata": {},
   "outputs": [
    {
     "name": "stdout",
     "output_type": "stream",
     "text": [
      "idli - rs30 per unit\n",
      "pohe - rs15 per unit\n",
      "tea - rs12 per unit\n",
      "wadapav - rs20 per unit\n",
      "              welcome to Hotel Swara              \n",
      "                 paud road ,pune                  \n",
      "==================================================\n",
      "Date :  2025-01-21 14:58:08.705109\n",
      "Table no :  4\n",
      "==================================================\n",
      "item  Quantity     Price     Total\n",
      "idli         3        30        90\n",
      "tea         4        12        48\n",
      "==================================================\n",
      "Grand Total: Rs 138\n"
     ]
    }
   ],
   "source": [
    "for i in range(len(items)):\n",
    "    print(f\"{items[i]} - rs{prices[i]} per unit\")\n",
    "\n",
    "\n",
    "bill_items=[]\n",
    "bill_quantities =[]\n",
    "bill_totals = []\n",
    "grand_total=0\n",
    "\n",
    "while True:\n",
    "    item = input(\"enter an item (or enter 'done' to finish)\")\n",
    "    if item=='done':\n",
    "        break\n",
    "    if item not in items:\n",
    "        print(\"item not found.please enter valid name\")\n",
    "        continue\n",
    "\n",
    "    quantity=int(input(\"enter a quantity\"))\n",
    "    if quantity <= 0:\n",
    "        print(\"enter a valid quantity\")\n",
    "        continue\n",
    "\n",
    "    #calculate total for the item\n",
    "    index = items.index(item)\n",
    "    price = prices[index]\n",
    "    total = price * quantity\n",
    "\n",
    "    #add details\n",
    "    bill_items.append(item)\n",
    "    bill_quantities.append(quantity)\n",
    "    bill_totals.append(total)\n",
    "    grand_total += total\n",
    "\n",
    "print(\"{:^50}\".format(\"welcome to Hotel Swara\"))\n",
    "print(\"{:^50}\".format(\"paud road ,pune\"))\n",
    "\n",
    "print (\"{:=^50}\".format(\"\"))\n",
    "\n",
    "date=datetime.now()\n",
    "\n",
    "print(\"Date : \",date)\n",
    "table_no=int(input(\"enter the table number\"))\n",
    "print(\"Table no : \",table_no)\n",
    "\n",
    "print (\"{:=^50}\".format(\"\"))\n",
    "\n",
    "print(\"{:}{:>10}{:>10}{:>10}\".format(\"item\",\"Quantity\",\"Price\",\"Total\"))\n",
    "\n",
    "# for i in range(len(bill_items)):\n",
    "#     print(bill_items[i], \" \" * (10 - len(bill_items[i])), bill_quantities[i], \" \" * 7, prices[items.index(bill_items[i])], \" \" * 5, bill_totals[i])\n",
    "\n",
    "for i in range(len(bill_items)):\n",
    "    print(\"{:}{:>10}{:>10}{:>10}\".format(bill_items[i],bill_quantities[i],prices[items.index(bill_items[i])],bill_totals[i]))\n",
    "\n",
    "print (\"{:=^50}\".format(\"\"))\n",
    "\n",
    "print(\"Grand Total: Rs\", grand_total)"
   ]
  },
  {
   "cell_type": "code",
   "execution_count": null,
   "metadata": {},
   "outputs": [],
   "source": []
  }
 ],
 "metadata": {
  "kernelspec": {
   "display_name": "Python 3",
   "language": "python",
   "name": "python3"
  },
  "language_info": {
   "codemirror_mode": {
    "name": "ipython",
    "version": 3
   },
   "file_extension": ".py",
   "mimetype": "text/x-python",
   "name": "python",
   "nbconvert_exporter": "python",
   "pygments_lexer": "ipython3",
   "version": "3.12.3"
  }
 },
 "nbformat": 4,
 "nbformat_minor": 2
}
