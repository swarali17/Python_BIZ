{
 "cells": [
  {
   "cell_type": "markdown",
   "metadata": {},
   "source": [
    "**1. Create the empty list and ask user to enters only int, float elements in the list.**"
   ]
  },
  {
   "cell_type": "code",
   "execution_count": 1,
   "metadata": {},
   "outputs": [
    {
     "name": "stdout",
     "output_type": "stream",
     "text": [
      "[45, 56, 78]\n"
     ]
    }
   ],
   "source": [
    "\n",
    "list1 = []  \n",
    "while True:\n",
    "    n = input(\"Enter a number: \")\n",
    "\n",
    "    try:\n",
    "        num1 = float(n) if \".\" in n else int(n)  # Convert to float if '.' present, else int  \n",
    "        list1.append(num1) \n",
    "\n",
    "    except ValueError:   \n",
    "        break  \n",
    "\n",
    "print(list1)"
   ]
  },
  {
   "cell_type": "code",
   "execution_count": 2,
   "metadata": {},
   "outputs": [
    {
     "name": "stdout",
     "output_type": "stream",
     "text": [
      "[45, 67, 87, 44]\n"
     ]
    }
   ],
   "source": [
    "list2 = []  \n",
    "while True:\n",
    "    n2 = input(\"Enter a number: \")\n",
    "    if n2.replace(\".\", \"\", 1).isdigit():  \n",
    "        list2.append(float(n2) if \".\" in n2 else int(n2))  # Convert to int if no decimal, else float  \n",
    "    else:\n",
    "        break  \n",
    "\n",
    "print(list2)"
   ]
  },
  {
   "cell_type": "markdown",
   "metadata": {},
   "source": [
    "**2. Create a empty dictionary d1 ask user to enter the values using loop**"
   ]
  },
  {
   "cell_type": "code",
   "execution_count": 3,
   "metadata": {},
   "outputs": [
    {
     "name": "stdout",
     "output_type": "stream",
     "text": [
      "{'swa': '44', 'chik': '67'}\n"
     ]
    }
   ],
   "source": [
    "dict1 = {}  \n",
    "n3 = int(input(\"enter the number of key value pairs\"))\n",
    "\n",
    "try :\n",
    "\n",
    "    for i in range(n3) :\n",
    "        key = input(\"Enter the key value\")\n",
    "        value = input(\"Enter the value\")\n",
    "        dict1[key] = value\n",
    "\n",
    "except ValueError :\n",
    "    print(\"Values not valid\")\n",
    "\n",
    "print(dict1)"
   ]
  },
  {
   "cell_type": "markdown",
   "metadata": {},
   "source": [
    "**3. Create a empty dictionary d1 ask user to enter the values using comprehensive list**"
   ]
  },
  {
   "cell_type": "code",
   "execution_count": 4,
   "metadata": {},
   "outputs": [
    {
     "name": "stdout",
     "output_type": "stream",
     "text": [
      "{'swara': '24'}\n"
     ]
    }
   ],
   "source": [
    "dict2 = {}\n",
    "\n",
    "key = input(\"Enter the key value\").split()\n",
    "value = input(\"Enter the value\").split()\n",
    "\n",
    "dict2 = {ke:val for ke,val in zip(key,value)}\n",
    "print(dict2)"
   ]
  },
  {
   "cell_type": "markdown",
   "metadata": {},
   "source": [
    "**4. Create a function which will accept two integer or float parameter from user and return 4 arithmetic operations in the form of tuple.**\n",
    "**If user pass argument other than integer and float then error should be created.**"
   ]
  },
  {
   "cell_type": "code",
   "execution_count": 5,
   "metadata": {},
   "outputs": [
    {
     "data": {
      "text/plain": [
       "(5, 1, 6, 1.5)"
      ]
     },
     "execution_count": 5,
     "metadata": {},
     "output_type": "execute_result"
    }
   ],
   "source": [
    "def math_oper(x,y):\n",
    "   \n",
    "    if isinstance(x,(int,float)) and isinstance(y,(int,float)):\n",
    "        return x+y,x-y,x*y,x/y if y!=0 else \"cannot divide by zero\"\n",
    "        \n",
    "    else : \n",
    "        raise TypeError(\"please provide either int or float\")\n",
    "        \n",
    "\n",
    "math_oper(3,2)"
   ]
  },
  {
   "cell_type": "code",
   "execution_count": 6,
   "metadata": {},
   "outputs": [
    {
     "ename": "TypeError",
     "evalue": "please provide either int or float",
     "output_type": "error",
     "traceback": [
      "\u001b[1;31m---------------------------------------------------------------------------\u001b[0m",
      "\u001b[1;31mTypeError\u001b[0m                                 Traceback (most recent call last)",
      "Cell \u001b[1;32mIn[6], line 1\u001b[0m\n\u001b[1;32m----> 1\u001b[0m \u001b[43mmath_oper\u001b[49m\u001b[43m(\u001b[49m\u001b[38;5;124;43m'\u001b[39;49m\u001b[38;5;124;43mswara\u001b[39;49m\u001b[38;5;124;43m'\u001b[39;49m\u001b[43m,\u001b[49m\u001b[38;5;241;43m2\u001b[39;49m\u001b[43m)\u001b[49m\n",
      "Cell \u001b[1;32mIn[5], line 7\u001b[0m, in \u001b[0;36mmath_oper\u001b[1;34m(x, y)\u001b[0m\n\u001b[0;32m      4\u001b[0m     \u001b[38;5;28;01mreturn\u001b[39;00m x\u001b[38;5;241m+\u001b[39my,x\u001b[38;5;241m-\u001b[39my,x\u001b[38;5;241m*\u001b[39my,x\u001b[38;5;241m/\u001b[39my \u001b[38;5;28;01mif\u001b[39;00m y\u001b[38;5;241m!=\u001b[39m\u001b[38;5;241m0\u001b[39m \u001b[38;5;28;01melse\u001b[39;00m \u001b[38;5;124m\"\u001b[39m\u001b[38;5;124mcannot divide by zero\u001b[39m\u001b[38;5;124m\"\u001b[39m\n\u001b[0;32m      6\u001b[0m \u001b[38;5;28;01melse\u001b[39;00m : \n\u001b[1;32m----> 7\u001b[0m     \u001b[38;5;28;01mraise\u001b[39;00m \u001b[38;5;167;01mTypeError\u001b[39;00m(\u001b[38;5;124m\"\u001b[39m\u001b[38;5;124mplease provide either int or float\u001b[39m\u001b[38;5;124m\"\u001b[39m)\n",
      "\u001b[1;31mTypeError\u001b[0m: please provide either int or float"
     ]
    }
   ],
   "source": [
    "math_oper('swara',2)"
   ]
  },
  {
   "cell_type": "code",
   "execution_count": 7,
   "metadata": {},
   "outputs": [
    {
     "data": {
      "text/plain": [
       "(9, 1, 20, 1.25)"
      ]
     },
     "execution_count": 7,
     "metadata": {},
     "output_type": "execute_result"
    }
   ],
   "source": [
    "## user input \n",
    "\n",
    "x1 = int(input(\"Enter the number\"))\n",
    "y1 = int(input(\"Enter the number\"))\n",
    "\n",
    "def oper(x1,y1):\n",
    "   \n",
    "    if isinstance(x1,(int,float)) and isinstance(y1,(int,float)):\n",
    "        return x1+y1,x1-y1,x1*y1,x1/y1 if y1!=0 else \"cannot divide by zero\"\n",
    "        \n",
    "    else : \n",
    "        raise TypeError(\"please provide either int or float\")\n",
    "    \n",
    "\n",
    "oper(x1,y1)      "
   ]
  },
  {
   "cell_type": "markdown",
   "metadata": {},
   "source": [
    "**5. Based on the above function (Question number 4) dived the outcome of multiplication by 2.**"
   ]
  },
  {
   "cell_type": "code",
   "execution_count": 8,
   "metadata": {},
   "outputs": [
    {
     "name": "stdout",
     "output_type": "stream",
     "text": [
      "Addition : 45\n",
      "Subtraction: -1\n",
      "Multiplication: 506\n",
      "Division: 0.9565217391304348\n",
      "Extra Operation ((x2/y2) * 2): 1.9130434782608696\n"
     ]
    }
   ],
   "source": [
    "x2 = int(input(\"Enter the number\"))\n",
    "y2 = int(input(\"Enter the number\"))\n",
    "\n",
    "def oper2(x2,y2):\n",
    "   \n",
    "    if isinstance(x2,(int,float)) and isinstance(y2,(int,float)):\n",
    "        return x2+y2,x2-y2,x2*y2,x2/y2 if y2!=0 else \"cannot divide by zero\",(x2/y2)*2\n",
    "        \n",
    "    else : \n",
    "        raise TypeError(\"please provide either int or float\")\n",
    "    \n",
    "\n",
    "addition, subtraction, multiplication, division, extra_operation = oper2(x2,y2)\n",
    "\n",
    "print(\"Addition :\",x2+y2)\n",
    "print(f\"Subtraction:\",x2-y2)\n",
    "print(f\"Multiplication: {multiplication}\")\n",
    "print(f\"Division: {division}\")\n",
    "print(f\"Extra Operation ((x2/y2) * 2): {extra_operation}\")"
   ]
  },
  {
   "cell_type": "markdown",
   "metadata": {},
   "source": [
    "**6. create a function to add only string element in a list. if other than string display the appropriate message.**"
   ]
  },
  {
   "cell_type": "code",
   "execution_count": 9,
   "metadata": {},
   "outputs": [
    {
     "name": "stdout",
     "output_type": "stream",
     "text": [
      "Final List: ['swara', 'om', 'sai', '']\n"
     ]
    }
   ],
   "source": [
    "str_list = []  \n",
    "\n",
    "def add_str():\n",
    "    n = input(\"Enter a string: \")\n",
    "    if n.isdigit():  # Check if the input is a number\n",
    "        print(\"Error: Numbers are not allowed. Enter only strings.\")\n",
    "    else:\n",
    "        str_list.append(n)\n",
    "\n",
    "\n",
    "for i in range(4):  \n",
    "    add_str()\n",
    "\n",
    "print(\"Final List:\", str_list)"
   ]
  },
  {
   "cell_type": "code",
   "execution_count": 11,
   "metadata": {},
   "outputs": [
    {
     "name": "stdout",
     "output_type": "stream",
     "text": [
      "Final List: ['swara', 'om', 'sai', 'bob']\n"
     ]
    }
   ],
   "source": [
    "## try except\n",
    "\n",
    "string_list = []  \n",
    "\n",
    "def add_string():\n",
    "    try :\n",
    "\n",
    "        n = input(\"Enter a string: \")\n",
    "        if n.isdigit():  \n",
    "            print(\"Error: Numbers are not allowed. Enter only strings.\")\n",
    "        else:\n",
    "            string_list.append(n)\n",
    "    \n",
    "    except ValueError as e:\n",
    "        print(e)\n",
    "\n",
    "\n",
    "for i in range(4):  \n",
    "    add_string()\n",
    "\n",
    "print(\"Final List:\", string_list)"
   ]
  },
  {
   "cell_type": "markdown",
   "metadata": {},
   "source": [
    "**7. Create a function to read the file and return the dictionary of total lines, total words**"
   ]
  },
  {
   "cell_type": "code",
   "execution_count": null,
   "metadata": {},
   "outputs": [
    {
     "ename": "TypeError",
     "evalue": "file_statistics() missing 1 required positional argument: 'file_path'",
     "output_type": "error",
     "traceback": [
      "\u001b[1;31m---------------------------------------------------------------------------\u001b[0m",
      "\u001b[1;31mTypeError\u001b[0m                                 Traceback (most recent call last)",
      "Cell \u001b[1;32mIn[12], line 8\u001b[0m\n\u001b[0;32m      3\u001b[0m         text \u001b[38;5;241m=\u001b[39m f\u001b[38;5;241m.\u001b[39mread()\n\u001b[0;32m      5\u001b[0m         \u001b[38;5;28;01mreturn\u001b[39;00m {\u001b[38;5;124m\"\u001b[39m\u001b[38;5;124mTotal Lines\u001b[39m\u001b[38;5;124m\"\u001b[39m: text\u001b[38;5;241m.\u001b[39mcount(\u001b[38;5;124m\"\u001b[39m\u001b[38;5;130;01m\\n\u001b[39;00m\u001b[38;5;124m\"\u001b[39m) \u001b[38;5;241m+\u001b[39m \u001b[38;5;241m1\u001b[39m, \n\u001b[0;32m      6\u001b[0m                 \u001b[38;5;124m\"\u001b[39m\u001b[38;5;124mTotal Words\u001b[39m\u001b[38;5;124m\"\u001b[39m: \u001b[38;5;28mlen\u001b[39m(text\u001b[38;5;241m.\u001b[39msplit())}\n\u001b[1;32m----> 8\u001b[0m \u001b[38;5;28mprint\u001b[39m(\u001b[43mfile_statistics\u001b[49m\u001b[43m(\u001b[49m\u001b[43m)\u001b[49m)\n",
      "\u001b[1;31mTypeError\u001b[0m: file_statistics() missing 1 required positional argument: 'file_path'"
     ]
    }
   ],
   "source": [
    "def file_statistics(file_path):\n",
    "    with open(r\"C:\\Users\\Administrator\\Downloads\\file.txt\", 'r') as f:\n",
    "        text = f.read()\n",
    "\n",
    "        return {\"Total Lines\": text.count(\"\\n\") + 1, \n",
    "                \"Total Words\": len(text.split())}\n",
    "\n",
    "print(file_statistics(file_path))"
   ]
  },
  {
   "cell_type": "code",
   "execution_count": null,
   "metadata": {},
   "outputs": [
    {
     "name": "stdout",
     "output_type": "stream",
     "text": [
      "{'Total Lines': 3, 'Total Words': 28}\n"
     ]
    }
   ],
   "source": [
    "## using try except\n",
    "\n",
    "def file_statistics(file_path):\n",
    "\n",
    "    try :\n",
    "\n",
    "        with open(r\"C:\\Users\\Administrator\\Downloads\\file.txt\", 'r') as f:\n",
    "            text = f.read()\n",
    "            \n",
    "            return {\"Total Lines\": text.count(\"\\n\") + 1, \n",
    "                    \"Total Words\": len(text.split())}\n",
    "    \n",
    "    except Exception as e :\n",
    "            return(\"Error\")\n",
    "\n",
    "print(file_statistics(file_path))"
   ]
  },
  {
   "cell_type": "markdown",
   "metadata": {},
   "source": [
    "**8. Create a function which will accept the dictionary and display key values in separate line.**"
   ]
  },
  {
   "cell_type": "code",
   "execution_count": 13,
   "metadata": {},
   "outputs": [
    {
     "name": "stdout",
     "output_type": "stream",
     "text": [
      "Key: name, Value: Swara\n",
      "Key: age, Value: 24\n",
      "Key: city, Value: Pune\n"
     ]
    }
   ],
   "source": [
    "def show_dict(d):\n",
    "    \n",
    "    for key, value in d.items():\n",
    "        print(f\"Key: {key}, Value: {value}\")\n",
    "\n",
    "Dict1 = {\"name\": \"Swara\", \"age\": 24, \"city\": \"Pune\"}\n",
    "\n",
    "show_dict(Dict1)\n"
   ]
  },
  {
   "cell_type": "code",
   "execution_count": 14,
   "metadata": {},
   "outputs": [
    {
     "name": "stdout",
     "output_type": "stream",
     "text": [
      "Key: name, Value: swara\n",
      "Key: age, Value: 24\n",
      "Key: city, Value: pune\n"
     ]
    }
   ],
   "source": [
    "## user input\n",
    "\n",
    "Dict1 = {}  \n",
    "\n",
    "for i in range(3): \n",
    "    key = input(\"Enter key: \")\n",
    "    value = input(\"Enter value: \")\n",
    "    Dict1[key] = value \n",
    "\n",
    "# Function to display dictionary\n",
    "def show_dict(d):\n",
    "    for key, value in d.items():\n",
    "        print(f\"Key: {key}, Value: {value}\")\n",
    "\n",
    "show_dict(Dict1)\n"
   ]
  },
  {
   "cell_type": "markdown",
   "metadata": {},
   "source": [
    "**9. Create a lambda function which will accept the dictionary and display key values in separate line.**"
   ]
  },
  {
   "cell_type": "code",
   "execution_count": 16,
   "metadata": {},
   "outputs": [
    {
     "name": "stdout",
     "output_type": "stream",
     "text": [
      "Key: place , Value: india\n",
      "Key: animal , Value: peacock\n"
     ]
    },
    {
     "data": {
      "text/plain": [
       "[None, None]"
      ]
     },
     "execution_count": 16,
     "metadata": {},
     "output_type": "execute_result"
    }
   ],
   "source": [
    "d1 = {}\n",
    "n = int(input(\"Enter the number of key value pairs\"))\n",
    "\n",
    "for i in range(n):\n",
    "    key = input(\"Enter key: \")\n",
    "    value = input(\"Enter value: \")\n",
    "    d1[key] = value \n",
    "\n",
    "display_dict = lambda d : [print(\"Key:\", k, \", Value:\", v) for k, v in d.items()]\n",
    "\n",
    "display_dict(d1)\n"
   ]
  },
  {
   "cell_type": "markdown",
   "metadata": {},
   "source": [
    "**10. Create a function to validate the password: password should contains at least one small letter, one capital letter, one number, and one special character except comma, quotes**"
   ]
  },
  {
   "cell_type": "code",
   "execution_count": null,
   "metadata": {},
   "outputs": [
    {
     "data": {
      "text/plain": [
       "<re.Match object; span=(0, 11), match='Kalashri21@'>"
      ]
     },
     "execution_count": 49,
     "metadata": {},
     "output_type": "execute_result"
    }
   ],
   "source": [
    "import re\n",
    "\n",
    "pattern= r'^(?=.[A-Za-z]*)(?=.\\d*)(?=.*[!@#$%^&*()])[A-Za-z\\d!@#$%^&*()]{8,}$'\n",
    "from_password = input(\"Enter the password(password should contains at least one small letter, one capital letter, one number, and one special character except comma, quotes)\")\n",
    "re.fullmatch(pattern,from_password)"
   ]
  },
  {
   "cell_type": "markdown",
   "metadata": {},
   "source": [
    "**11. Generate a decorator having logic to accept natural numbers . which can be used in a function of factorial**"
   ]
  },
  {
   "cell_type": "code",
   "execution_count": 53,
   "metadata": {},
   "outputs": [
    {
     "name": "stdout",
     "output_type": "stream",
     "text": [
      "Factorial of given number is ; 120\n"
     ]
    }
   ],
   "source": [
    "def natural_number(func):\n",
    "\n",
    "    def wrapper(n):\n",
    "\n",
    "        if n > 0:\n",
    "            return func(n)\n",
    "        else:\n",
    "            return \"Error: Enter a natural number (greater than 0)\"\n",
    "        \n",
    "    return wrapper \n",
    " \n",
    "@natural_number     # call decorator\n",
    "\n",
    "def factorial(n):\n",
    "    if n == 1 or n == 0:\n",
    "        return 1\n",
    "    else:\n",
    "        return n * factorial(n - 1)  \n",
    "\n",
    "num = int(input(\"Enter a number: \"))\n",
    "print(\"Factorial of given number is ;\",factorial(num))\n"
   ]
  },
  {
   "cell_type": "markdown",
   "metadata": {},
   "source": [
    "**12. Generate the decorator for a Garden visit to check if current time is between 7am to 7pm. If true the only call the function else generate the error.**\n",
    "\n",
    "\n",
    "\n",
    "\n",
    "**a. Function payment_check() is active only within given time span and it will check for all user transaction in that given month.**\n",
    "\n",
    "\n",
    "\n",
    "\n",
    "**b. Function entry() will be perform entry transaction of the user**\n",
    "\n",
    "\n",
    "\n",
    "\n",
    "**c. Function exit() will update the outtime of the user if entry exists**"
   ]
  },
  {
   "cell_type": "markdown",
   "metadata": {},
   "source": [
    "**13. Create lambda function for sorting of the string**"
   ]
  },
  {
   "cell_type": "code",
   "execution_count": 2,
   "metadata": {},
   "outputs": [
    {
     "name": "stdout",
     "output_type": "stream",
     "text": [
      "1234\n"
     ]
    }
   ],
   "source": [
    "n = input(\"Enter the string: \")\n",
    "\n",
    "sort_string = lambda n: \"\".join(sorted(n))     \n",
    "print(sort_string(n)) \n",
    "\n",
    "### \"\".join(sorted() ==  sort the characters of a string and return a new sorted string\n",
    "### we cant use sort directly on string it will use on list,int"
   ]
  },
  {
   "cell_type": "markdown",
   "metadata": {},
   "source": [
    "**14. Create a generator which will generate runtime unique value as ABC0001, ABC0002, ABC0003…**"
   ]
  },
  {
   "cell_type": "code",
   "execution_count": null,
   "metadata": {},
   "outputs": [
    {
     "name": "stdout",
     "output_type": "stream",
     "text": [
      "ABC0001\n",
      "ABC0002\n",
      "ABC0003\n",
      "ABC0004\n",
      "ABC0005\n"
     ]
    }
   ],
   "source": [
    "def unique_generator() :\n",
    "\n",
    "    num = 1 # start from 1\n",
    "    while True :\n",
    "        yield \"ABC\"+str(num).zfill(4)       # z.fill(4) is used to Convert number to string with 4 digits\n",
    "        num = num + 1\n",
    "\n",
    "gen = unique_generator()                    # call generator\n",
    "\n",
    "for i in range(5):\n",
    "    print(next(gen))\n"
   ]
  },
  {
   "cell_type": "code",
   "execution_count": null,
   "metadata": {},
   "outputs": [
    {
     "name": "stdout",
     "output_type": "stream",
     "text": [
      "ABC0001\n",
      "ABC0002\n",
      "ABC0003\n",
      "ABC0004\n",
      "ABC0005\n"
     ]
    }
   ],
   "source": [
    "## try except\n",
    "## but here in generator it is not mendatory\n",
    "\n",
    "def unique_generator() :\n",
    "    try :\n",
    "        num = 1 # start from 1\n",
    "        while True :\n",
    "            yield \"ABC\"+str(num).zfill(4)       \n",
    "            num = num + 1\n",
    "\n",
    "    except Exception as e :\n",
    "        return \"Error\"\n",
    "    \n",
    "gen = unique_generator()                   \n",
    "\n",
    "for i in range(5):\n",
    "    print(next(gen))"
   ]
  },
  {
   "cell_type": "markdown",
   "metadata": {},
   "source": [
    "**15. Create a decorator to check if all input values are alpha numeric and based on it check PAN detail AAAAA1111X , rec.no first 3 chr next 5 number**"
   ]
  },
  {
   "cell_type": "code",
   "execution_count": null,
   "metadata": {},
   "outputs": [
    {
     "name": "stdout",
     "output_type": "stream",
     "text": [
      "Valid PAN: HGOPH1234D\n"
     ]
    }
   ],
   "source": [
    "import re\n",
    "\n",
    "def valid_pan(func):\n",
    "\n",
    "    def wrapper(pan):\n",
    "        if not re.match(r\"^[A-Z]{5}[0-9]{4}[A-Z]$\", pan):\n",
    "            return \"Error: Invalid PAN format (must be AAAAA1111X)\"\n",
    "        return func(pan)\n",
    "    \n",
    "    return wrapper\n",
    "\n",
    "@valid_pan\n",
    "def check_pan(pan):\n",
    "    return f\"Valid PAN: {pan}\"\n",
    "\n",
    "pan_number = input(\"Enter PAN number: \").upper()  \n",
    "print(check_pan(pan_number))"
   ]
  },
  {
   "cell_type": "markdown",
   "metadata": {},
   "source": [
    "**16. Accept 2 values from user and perform all arithmetic operations and return all**"
   ]
  },
  {
   "cell_type": "code",
   "execution_count": 28,
   "metadata": {},
   "outputs": [
    {
     "name": "stdout",
     "output_type": "stream",
     "text": [
      "Addition:10\n",
      "Subtraction:0\n",
      "Multiplication:25\n",
      "Division:1.0\n",
      "Modulus:0\n",
      "Exponentiation:3125\n"
     ]
    }
   ],
   "source": [
    "def arithmetic_operation(a,b):\n",
    "    a = int(input(\"Enter the number\"))\n",
    "    b = int(input(\"Enter the number\"))\n",
    "    # return a+b,a-b,a*b,a/b if b!=0 else \"cannot divide by zero\"\n",
    "    return {\n",
    "        \"Addition\": a + b,\n",
    "        \"Subtraction\": a - b,\n",
    "        \"Multiplication\": a * b,\n",
    "        \"Division\": a / b if b != 0 else \"Cannot divide by zero\",\n",
    "        \"Modulus\": a % b if b != 0 else \"Cannot find modulus with zero\",\n",
    "        \"Exponentiation\": a ** b\n",
    "    }\n",
    "\n",
    "result = arithmetic_operation(a,b) \n",
    "for operation, value in result.items() :\n",
    "    print(f\"{operation}:{value}\")"
   ]
  },
  {
   "cell_type": "code",
   "execution_count": 33,
   "metadata": {},
   "outputs": [
    {
     "name": "stdout",
     "output_type": "stream",
     "text": [
      "Error: Please enter valid numbers.\n"
     ]
    }
   ],
   "source": [
    "def arithmetic_operation():\n",
    "    try:\n",
    "        a = int(input(\"Enter the first number: \"))\n",
    "        b = int(input(\"Enter the second number: \"))\n",
    "\n",
    "        return {\n",
    "            \"Addition\": a + b,\n",
    "            \"Subtraction\": a - b,\n",
    "            \"Multiplication\": a * b,\n",
    "            \"Division\": a / b if b != 0 else \"Cannot divide by zero\",\n",
    "            \"Modulus\": a % b if b != 0 else \"Cannot find modulus with zero\",\n",
    "            \"Exponentiation\": a ** b\n",
    "        }\n",
    "\n",
    "    except ValueError:\n",
    "        return \"Error: Please enter valid numbers.\"\n",
    "    \n",
    "    except ZeroDivisionError:\n",
    "        return \"Error: Division by zero is not allowed.\"\n",
    "\n",
    "# Calling the function and printing output\n",
    "result = arithmetic_operation()\n",
    "\n",
    "# Printing the output\n",
    "if isinstance(result, dict):  # If result is a dictionary, print operations\n",
    "    for operation, value in result.items():\n",
    "        print(f\"{operation}: {value}\")\n",
    "else:\n",
    "    print(result)  # If an error occurs, print the error message\n"
   ]
  },
  {
   "cell_type": "markdown",
   "metadata": {},
   "source": [
    "**17. Ask user to enter any 3 input e.g name, marks , mobile_num**\n",
    "\n",
    "**if name is with other special characters then it should not not ask for next makrs input note:**\n",
    "\n",
    "\n",
    "\n",
    "**o Create separate functions for validation of every variable**\n",
    "\n",
    "\n",
    "\n",
    "**o Every single block should have proper exception**\n",
    "\n",
    "\n",
    "\n",
    "\n",
    "**o Every function must have the docstring**\n",
    "\n",
    "\n",
    "\n",
    "\n",
    "**o Once the validation is done dictionary has to be created and store the dictionary to one txt file**"
   ]
  },
  {
   "cell_type": "code",
   "execution_count": 36,
   "metadata": {},
   "outputs": [],
   "source": [
    "import re\n",
    "\n",
    "def validate_name(name):\n",
    "    \"\"\"Check if the name contains only letters and spaces.\"\"\"\n",
    "    if re.match(r\"^[A-z]*.[A-z]*$\", name):\n",
    "        return name\n",
    "    raise ValueError(\"Invalid name! Only letters and spaces allowed.\")\n",
    "\n",
    "\n",
    "def validate_marks(marks):\n",
    "    \"\"\"Check if marks are between 0 and 100.\"\"\"\n",
    "    try:\n",
    "        marks = float(marks)\n",
    "        if 0 <= marks <= 100:\n",
    "            return marks\n",
    "        raise ValueError(\"Marks must be between 0 and 100.\")\n",
    "    except ValueError:\n",
    "        raise ValueError(\"Invalid marks! Enter a number.\")\n",
    "\n",
    "\n",
    "def validate_mobile(mobile):\n",
    "    \"\"\"Check if the mobile number has exactly 10 digits.\"\"\"\n",
    "    if re.match(r\"^\\d{10}$\", mobile):\n",
    "        return mobile\n",
    "    raise ValueError(\"Invalid mobile number! Enter exactly 10 digits.\")"
   ]
  },
  {
   "cell_type": "code",
   "execution_count": 37,
   "metadata": {},
   "outputs": [
    {
     "name": "stdout",
     "output_type": "stream",
     "text": [
      "Data saved successfully!\n"
     ]
    }
   ],
   "source": [
    "def get_user_data():\n",
    "    \"\"\"Get and validate user input, then save to a file.\"\"\"\n",
    "    try:\n",
    "        name = validate_name(input(\"Enter your name: \"))\n",
    "        marks = validate_marks(input(\"Enter your marks: \"))\n",
    "        mobile = validate_mobile(input(\"Enter your mobile number: \"))\n",
    "\n",
    "        user_data = {\"Name\": name, \"Marks\": marks, \"Mobile\": mobile}\n",
    "\n",
    "        with open(\"user_data.txt\", \"a\") as file:\n",
    "            file.write(str(user_data) + \"\\n\")\n",
    "\n",
    "        print(\"Data saved successfully!\")\n",
    "    \n",
    "    except ValueError as e:\n",
    "        print(e)\n",
    "\n",
    "# Run the function\n",
    "get_user_data()"
   ]
  },
  {
   "cell_type": "markdown",
   "metadata": {},
   "source": [
    "**18. Segregate file in small , medium and large size in different folder**\n",
    "\n",
    "**o filesize less than and equal to 10KB is small file**\n",
    "\n",
    "**o filesize more than 10 KB is the medium file**\n",
    "\n",
    "**o filesize more than 40 kb is the large file**\n",
    "\n",
    "**o create the log file**"
   ]
  },
  {
   "cell_type": "code",
   "execution_count": 17,
   "metadata": {},
   "outputs": [
    {
     "name": "stdout",
     "output_type": "stream",
     "text": [
      "D:\\bizmetric documents\\ADHAR CARD (Back).jpeg 214.505\n",
      "D:\\bizmetric documents\\ADHAR CARD (front).jpeg 258.657\n",
      "D:\\bizmetric documents\\BACKGROUND VERIFICATION FORM.pdf 2073.86\n",
      "D:\\bizmetric documents\\bank passbook.jpg 1657.06\n",
      "D:\\bizmetric documents\\DEGREE CERTIFICATE.jpeg 211.356\n",
      "D:\\bizmetric documents\\DOCUMENTS.pdf 1151.247\n",
      "D:\\bizmetric documents\\lightbill(12_2024).jpg 3124.494\n",
      "D:\\bizmetric documents\\NDA (Biz-Metric) (1).pdf 656.33\n",
      "D:\\bizmetric documents\\PAN CARD.jpeg 780.629\n",
      "D:\\bizmetric documents\\prof photo.jpeg 407.527\n",
      "D:\\bizmetric documents\\SERVICE AGREEMENT _Swarali (1).pdf 2867.828\n",
      "D:\\bizmetric documents\\SERVICE AGREEMENT.docx 18.003\n",
      "D:\\bizmetric documents\\Swarali Vinod Mungare_Offerletter.docx 58.12\n",
      "D:\\bizmetric documents\\Swarali Vinod Mungare_Offerletter.pdf 338.184\n",
      "D:\\bizmetric documents\\SWARALI_Bizmetric Documents.zip 5693.947\n"
     ]
    },
    {
     "name": "stderr",
     "output_type": "stream",
     "text": [
      "<>:12: SyntaxWarning: invalid escape sequence '\\V'\n",
      "<>:14: SyntaxWarning: invalid escape sequence '\\V'\n",
      "<>:16: SyntaxWarning: invalid escape sequence '\\V'\n",
      "<>:12: SyntaxWarning: invalid escape sequence '\\V'\n",
      "<>:14: SyntaxWarning: invalid escape sequence '\\V'\n",
      "<>:16: SyntaxWarning: invalid escape sequence '\\V'\n",
      "C:\\Users\\munga\\AppData\\Local\\Temp\\ipykernel_15892\\420753608.py:12: SyntaxWarning: invalid escape sequence '\\V'\n",
      "  shutil.copy(filename,'D:\\VS code\\BIZ\\\\small')\n",
      "C:\\Users\\munga\\AppData\\Local\\Temp\\ipykernel_15892\\420753608.py:14: SyntaxWarning: invalid escape sequence '\\V'\n",
      "  shutil.copy(filename,'D:\\VS code\\BIZ\\\\med')\n",
      "C:\\Users\\munga\\AppData\\Local\\Temp\\ipykernel_15892\\420753608.py:16: SyntaxWarning: invalid escape sequence '\\V'\n",
      "  shutil.copy(filename,'D:\\VS code\\BIZ\\\\large')\n"
     ]
    }
   ],
   "source": [
    "import os         # operating system\n",
    "import shutil     # use to copy and move\n",
    "\n",
    "for i in os.listdir(\"D:\\\\bizmetric documents\"):\n",
    "    filename=\"D:\\\\bizmetric documents\\\\\" + i\n",
    "    sz=os.stat(filename).st_size/1000\n",
    "\n",
    "    print(filename,sz)\n",
    "    \n",
    "    \n",
    "    if sz <= 10:\n",
    "        shutil.copy(filename,'D:\\VS code\\BIZ\\\\small')\n",
    "    elif sz > 10 and sz <= 40:\n",
    "        shutil.copy(filename,'D:\\VS code\\BIZ\\\\med')\n",
    "    else:\n",
    "        shutil.copy(filename,'D:\\VS code\\BIZ\\\\large')\n",
    "\n"
   ]
  },
  {
   "cell_type": "markdown",
   "metadata": {},
   "source": [
    "**19. In the hotel user is entering the details of menu, quantity and printing the bill. number of menu may varies with customer's order**\n",
    "\n",
    "**generate a file having grocery bill as per the below format**"
   ]
  },
  {
   "cell_type": "code",
   "execution_count": 2,
   "metadata": {},
   "outputs": [
    {
     "name": "stdout",
     "output_type": "stream",
     "text": [
      "\n",
      "Sr.  Menu      Quantity   Price      Total\n",
      "============================================================\n",
      "1    Vada                      2          60.00      120.00    \n",
      "2    Idali                     3          90.00      270.00    \n",
      "============================================================\n",
      "Grand Total:                                       390.00    \n"
     ]
    }
   ],
   "source": [
    "# Input the number of items\n",
    "items = []\n",
    "for i in range(int(input(\"Enter the number of items: \"))):\n",
    "    desc = input(f\"\\nItem {i + 1} Menu: \")\n",
    "    qty = int(input(\"Quantity: \"))\n",
    "    price = float(input(\"Price: \"))\n",
    "    items.append({\"Menu\": desc, \"quantity\": qty, \"price\": price})\n",
    "\n",
    "# Print Header\n",
    "print(\"\\nSr.  Menu      Quantity   Price      Total\")\n",
    "print(\"=\" * 60)\n",
    "\n",
    "# Print Items and Calculate Total\n",
    "grand_total = 0\n",
    "for sr_no, item in enumerate(items, start=1):\n",
    "    total = item[\"quantity\"] * item[\"price\"]\n",
    "    grand_total += total\n",
    "    print(f\"{sr_no:<4} {item['Menu']:<25} {item['quantity']:<10} {item['price']:<10.2f} {total:<10.2f}\")\n",
    "\n",
    "# Print Footer\n",
    "print(\"=\" * 60)\n",
    "print(f\"{'Grand Total:':<50} {grand_total:<10.2f}\")"
   ]
  },
  {
   "cell_type": "code",
   "execution_count": 3,
   "metadata": {},
   "outputs": [
    {
     "name": "stdout",
     "output_type": "stream",
     "text": [
      " | Welcome Hotel Name |\n",
      "| 2025-02-14   recpt: 101 |\n",
      "------------------------------\n",
      "|SR.  Menu  qnt  price |\n",
      "| 1.  Vada  2   120   |\n",
      "| 2.  Idali 3   270   |\n",
      "------------------------------\n",
      "| total       390    |\n",
      "| including GST 10% = 39 |\n",
      "------------------------------\n",
      "Bill saved as 'grocery_bill.txt'.\n"
     ]
    }
   ],
   "source": [
    "import datetime\n",
    "\n",
    "# Get date and receipt number\n",
    "date = datetime.datetime.now().strftime(\"%Y-%m-%d\")\n",
    "recpt_no = 101\n",
    "\n",
    "# Input items\n",
    "items = []\n",
    "for i in range(int(input(\"Enter number of items: \"))):\n",
    "    menu = input(\"\\nMenu: \")\n",
    "    qty = int(input(\"Quantity: \"))\n",
    "    price = int(input(\"Price: \"))\n",
    "    items.append((menu, qty, price * qty))\n",
    "\n",
    "# Calculate totals\n",
    "total = sum(item[2] for item in items)\n",
    "gst = total * 0.10\n",
    "final_total = total + gst\n",
    "\n",
    "# Generate bill\n",
    "bill = [\n",
    "    \" | Welcome Hotel Name |\",\n",
    "    f\"| {date}   recpt: {recpt_no} |\",\n",
    "    \"-\" * 30,\n",
    "    \"|SR.  Menu  qnt  price |\"\n",
    "]\n",
    "\n",
    "for i, (menu, qty, price) in enumerate(items, 1):\n",
    "    bill.append(f\"| {i}.  {menu:<5} {qty:<3} {price:<5} |\")\n",
    "\n",
    "bill += [\n",
    "    \"-\" * 30,\n",
    "    f\"| total       {total:<6} |\",\n",
    "    f\"| including GST 10% = {int(gst)} |\",\n",
    "    \"-\" * 30\n",
    "]\n",
    "\n",
    "# Print & Save Bill\n",
    "print(\"\\n\".join(bill))\n",
    "with open(\"grocery_bill.txt\", \"w\") as f:\n",
    "    f.write(\"\\n\".join(bill))\n",
    "\n",
    "print(\"Bill saved as 'grocery_bill.txt'.\")\n"
   ]
  },
  {
   "cell_type": "markdown",
   "metadata": {},
   "source": [
    "**20. Ask user to enter the valid file path and check which word is having more repetition in the file**"
   ]
  },
  {
   "cell_type": "code",
   "execution_count": null,
   "metadata": {},
   "outputs": [
    {
     "name": "stdout",
     "output_type": "stream",
     "text": [
      "The most repeated word is 'market' with 3 occurrences.\n"
     ]
    }
   ],
   "source": [
    "import re\n",
    "from collections import Counter\n",
    "\n",
    "file_path = input(\"Enter the valid file path: \").strip()\n",
    "\n",
    "with open(file_path, 'r') as f:\n",
    "    text = f.read()\n",
    "\n",
    "words = re.findall(r'\\b\\w+\\b',text.lower())      ## text.lower remove punctuation and convert to lowercase)\n",
    "\n",
    "# Count word occurrences\n",
    "word_counts = Counter(words)\n",
    "\n",
    "# Find the most repeated word\n",
    "most_common_word, highest_count = word_counts.most_common(1)[0]\n",
    "\n",
    "print(f\"The most repeated word is '{most_common_word}' with {highest_count} occurrences.\")\n"
   ]
  },
  {
   "cell_type": "markdown",
   "metadata": {},
   "source": [
    "**21. Create a function which will accept the word and the file path and returns the dictionary as {word: occurances}**"
   ]
  },
  {
   "cell_type": "code",
   "execution_count": 12,
   "metadata": {},
   "outputs": [
    {
     "name": "stdout",
     "output_type": "stream",
     "text": [
      "{'market': 3}\n"
     ]
    }
   ],
   "source": [
    "import re\n",
    "\n",
    "def count_word_get_instances(file_path, search_word):\n",
    "    with open(file_path, 'r') as f: \n",
    "        text = f.read()\n",
    "        \n",
    "    word_count = len(re.findall(rf'\\b{re.escape(search_word)}\\b', text, re.IGNORECASE))\n",
    "    \n",
    "    return {search_word: word_count}  \n",
    "\n",
    "\n",
    "file_path = \"C:\\\\Users\\\\Administrator\\\\Downloads\\\\file.txt\"  \n",
    "search_word = input(\"Enter the word you want to count: \").strip()  \n",
    "\n",
    "\n",
    "result = count_word_get_instances(file_path, search_word)  \n",
    "print(result)  \n"
   ]
  },
  {
   "cell_type": "code",
   "execution_count": 15,
   "metadata": {},
   "outputs": [
    {
     "name": "stdout",
     "output_type": "stream",
     "text": [
      "{'market : 3'}\n"
     ]
    }
   ],
   "source": [
    "## using try except\n",
    "\n",
    "def count_word_get_instances(file_path, search_word):\n",
    "    with open(f\"C:\\\\Users\\\\Administrator\\\\Downloads\\\\file.txt\", 'r') as f:\n",
    "        text = f.read()\n",
    "\n",
    "        try :\n",
    "            search_word = input(\"Enter the word you want to count: \").strip()\n",
    "            word_count = len(re.findall(rf'\\b{re.escape(search_word)}\\b', text, re.IGNORECASE))\n",
    "            return {f\"{search_word} : {word_count}\"} \n",
    "        \n",
    "        except FileNotFoundError:\n",
    "            print(f\"Error: The file '{file_path}' was not found.\")\n",
    "            return None\n",
    "        \n",
    "        except Exception as e:\n",
    "            print(f\"An unexpected error occurred: {e}\")\n",
    "            return None\n",
    "        \n",
    "#search_word = input(\"Enter the word you want to count: \").strip()\n",
    "result = count_word_get_instances(file_path, search_word)\n",
    "print(result)"
   ]
  },
  {
   "cell_type": "markdown",
   "metadata": {},
   "source": [
    "**22. Create a function which will accept one file and returns all occurrences of the word {‘market’ : 3, ‘is’:5, ‘new’:2}**"
   ]
  },
  {
   "cell_type": "code",
   "execution_count": 19,
   "metadata": {},
   "outputs": [
    {
     "name": "stdout",
     "output_type": "stream",
     "text": [
      "{'near': 1, 'my': 1, 'home': 1, 'there': 2, 'will': 1, 'be': 1, 'a': 1, 'big': 1, 'market': 3, 'i': 1, 'daily': 1, 'go': 1, 'in': 2, 'that': 2, 'to': 1, 'buy': 1, 'the': 1, 'vegetables': 1, 'are': 1, 'always': 1, 'so': 1, 'many': 1, 'croud': 1}\n"
     ]
    }
   ],
   "source": [
    "def count_word_occurrences(file_path):\n",
    "    with open(\"C:\\\\Users\\\\Administrator\\\\Downloads\\\\file.txt\" , 'r') as f:\n",
    "        text = f.read().lower()  # Convert to lowercase for case-insensitive counting\n",
    "\n",
    "    words = re.findall(r'\\b\\w+\\b', text) \n",
    "    word_counts = Counter(words) \n",
    "\n",
    "    return dict(word_counts)  # Convert Counter object to dictionary\n",
    "\n",
    "result = count_word_occurrences(file_path)\n",
    "print(result)  "
   ]
  },
  {
   "cell_type": "code",
   "execution_count": null,
   "metadata": {},
   "outputs": [
    {
     "name": "stdout",
     "output_type": "stream",
     "text": [
      "{'near': 1, 'my': 1, 'home': 1, 'there': 2, 'will': 1, 'be': 1, 'a': 1, 'big': 1, 'market': 3, 'i': 1, 'daily': 1, 'go': 1, 'in': 2, 'that': 2, 'to': 1, 'buy': 1, 'the': 1, 'vegetables': 1, 'are': 1, 'always': 1, 'so': 1, 'many': 1, 'croud': 1}\n"
     ]
    }
   ],
   "source": [
    "import re\n",
    "from collections import Counter\n",
    "\n",
    "file_path = \"C:\\\\Users\\\\Administrator\\\\Downloads\\\\file.txt\" \n",
    "\n",
    "def count_word_occurrences(file_path):\n",
    "    try:\n",
    "        with open(f, 'r', encoding=\"utf-8\") as f:\n",
    "            text = f.read().lower()  # Convert to lowercase for case-insensitive counting\n",
    "\n",
    "        words = re.findall(r'\\b\\w+\\b', text)  \n",
    "        word_counts = Counter(words)  \n",
    "\n",
    "        return dict(word_counts)  \n",
    "    \n",
    "    except FileNotFoundError:\n",
    "        print(f\"Error: The file '{file_path}' was not found.\")\n",
    "        return None\n",
    "    \n",
    "    except Exception as e:\n",
    "        print(f\"An unexpected error occurred: {e}\")\n",
    "        return None\n",
    "\n",
    "\n",
    "result = count_word_occurrences(file_path)\n",
    "\n",
    "if result is not None:\n",
    "    print(result)  # Print word occurrences"
   ]
  },
  {
   "cell_type": "markdown",
   "metadata": {},
   "source": [
    "**23. Based on logic mentioned in question number 8 create the class**"
   ]
  },
  {
   "cell_type": "markdown",
   "metadata": {},
   "source": []
  },
  {
   "cell_type": "code",
   "execution_count": 5,
   "metadata": {},
   "outputs": [
    {
     "name": "stdout",
     "output_type": "stream",
     "text": [
      "Key: Name, Value: Kala\n",
      "Key: Age, Value: 23\n",
      "Key: City, Value: Pune\n"
     ]
    }
   ],
   "source": [
    "class DictionaryManager:\n",
    "    def __init__(self):\n",
    "        self.D1 = {}  # Initialize an empty dictionary\n",
    "\n",
    "    def add_entries(self, n):\n",
    "        for _ in range(n):\n",
    "            key = input(\"Enter key: \")\n",
    "            value = input(\"Enter value: \")\n",
    "            self.D1[key] = value  \n",
    "\n",
    "    def display_dict(self):\n",
    "        for key, value in self.D1.items():\n",
    "            print(f\"Key: {key}, Value: {value}\")\n",
    "\n",
    "dict_manager = DictionaryManager()\n",
    "n = int(input(\"Enter the number of entries: \")) \n",
    "\n",
    "dict_manager.add_entries(n)  # Add entries\n",
    "dict_manager.display_dict()  # Display dictionary\n"
   ]
  },
  {
   "cell_type": "markdown",
   "metadata": {},
   "source": [
    "**24. Ask user to enter the folder path. Folder may contain more than one file and with different extensions. Read only text file and return the more repetitive word**"
   ]
  },
  {
   "cell_type": "code",
   "execution_count": 10,
   "metadata": {},
   "outputs": [
    {
     "name": "stdout",
     "output_type": "stream",
     "text": [
      "Most repetitive word: 'market' (3 times)\n"
     ]
    }
   ],
   "source": [
    "import os\n",
    "import re\n",
    "from collections import Counter\n",
    "\n",
    "folder = input(\"Enter folder path: \")\n",
    "\n",
    "word_count = Counter()\n",
    "\n",
    "for file in os.listdir(folder):\n",
    "    if file.endswith(\".txt\"):\n",
    "        with open(os.path.join(folder, file), \"r\") as f:\n",
    "            words = re.findall(r'\\b\\w+\\b', f.read().lower())\n",
    "            word_count.update(words)\n",
    "\n",
    "if word_count:\n",
    "    word, count = word_count.most_common(1)[0]\n",
    "    print(f\"Most repetitive word: '{word}' ({count} times)\")\n",
    "else:\n",
    "    print(\"No words found.\")\n"
   ]
  },
  {
   "cell_type": "markdown",
   "metadata": {},
   "source": [
    "**25. Create a class for file reading**"
   ]
  },
  {
   "cell_type": "code",
   "execution_count": null,
   "metadata": {},
   "outputs": [
    {
     "name": "stdout",
     "output_type": "stream",
     "text": [
      "near my home there will be a big market.\n",
      "I daily go in that market to buy the vegetables.\n",
      "There are always so many croud in that market.\n"
     ]
    }
   ],
   "source": [
    "class FileReader:\n",
    "\n",
    "    def __init__(self, filename):\n",
    "        self.filename = filename\n",
    "\n",
    "    def read_file(self):\n",
    "        try:\n",
    "            with open(self.filename, \"r\", encoding=\"utf-8\") as file:\n",
    "                return file.read() \n",
    "            \n",
    "        except FileNotFoundError:\n",
    "            return \"Error: File not found\"\n",
    "        \n",
    "        except Exception as e:\n",
    "            return f\"Error: {e}\"\n",
    "\n",
    "# Now we create an object and use the class\n",
    "file_name = input(\"Enter file name: \")\n",
    "reader = FileReader(file_name)  \n",
    "content = reader.read_file()  \n",
    "print(content)  #\n"
   ]
  },
  {
   "cell_type": "markdown",
   "metadata": {},
   "source": [
    "**26. Create a function which will accept the dictionary. Dictionary may have values any date type format. If values are in integer or float then return respective key**"
   ]
  },
  {
   "cell_type": "code",
   "execution_count": 16,
   "metadata": {},
   "outputs": [
    {
     "name": "stdout",
     "output_type": "stream",
     "text": [
      "Keys with numeric values: ['a', 'c', 'e']\n"
     ]
    }
   ],
   "source": [
    "def get_numeric_keys(data):\n",
    "    numeric_keys = []\n",
    "\n",
    "    for key, value in data.items():\n",
    "        if isinstance(value, (int, float)):  \n",
    "            numeric_keys.append(key)\n",
    "    return numeric_keys\n",
    "\n",
    "user_dict = {\n",
    "    \"a\": 10,\n",
    "    \"b\": \"hello\",\n",
    "    \"c\": 5.5,\n",
    "    \"d\": [1, 2, 3],\n",
    "    \"e\": 20\n",
    "}\n",
    "\n",
    "numeric_keys = get_numeric_keys(user_dict)\n",
    "print(\"Keys with numeric values:\", numeric_keys)\n"
   ]
  },
  {
   "cell_type": "markdown",
   "metadata": {},
   "source": [
    "**27. Create one decorator having exception logic inside it and create another function which will refer to the decorator in case of errors**\n",
    "\n",
    "**e.g val_name is the function validating name but customized error should be thrown from decorator**"
   ]
  },
  {
   "cell_type": "code",
   "execution_count": null,
   "metadata": {},
   "outputs": [
    {
     "name": "stdout",
     "output_type": "stream",
     "text": [
      "Custom Error: Name should contain only alphabets.\n"
     ]
    }
   ],
   "source": [
    "def exception_handler(func):\n",
    "    def wrapper(name):\n",
    "        try:\n",
    "            return func(name)\n",
    "        except ValueError as e:\n",
    "            return f\"Custom Error: {e}\"\n",
    "    return wrapper\n",
    "\n",
    "# Function that validates a name\n",
    "@exception_handler\n",
    "def val_name(name):\n",
    "    if not name.isalpha():  # Check if name contains only letters\n",
    "        raise ValueError(\"Name should contain only alphabets.\")\n",
    "    return f\"Valid Name: {name}\"\n",
    "\n",
    "user_name = input(\"Enter your name: \")        # i give input as vedanti kale\n",
    "print(val_name(user_name))\n"
   ]
  },
  {
   "cell_type": "markdown",
   "metadata": {},
   "source": [
    "**28. Create a class User. User will be instantiated based on key available in the dictionary. If dictionary is not having the key then generate error. If dictionary is having the key then display values against the same.**"
   ]
  },
  {
   "cell_type": "markdown",
   "metadata": {},
   "source": [
    "**29. Create a class pharma. One user A will enter the medicine name and price. Another user B will generate the bill based on entry done by the first user**"
   ]
  },
  {
   "cell_type": "code",
   "execution_count": 21,
   "metadata": {},
   "outputs": [
    {
     "name": "stdout",
     "output_type": "stream",
     "text": [
      "Total Bill: ₹ 90\n"
     ]
    }
   ],
   "source": [
    "class Pharma:\n",
    "    def __init__(self):\n",
    "        self.medicines = {}  # Store medicine names and prices\n",
    "\n",
    "    def add_medicine(self, name, price):\n",
    "        self.medicines[name] = price  # Save medicine details\n",
    "\n",
    "    def generate_bill(self, cart):\n",
    "        total = sum(self.medicines[med] * qty for med, qty in cart.items() if med in self.medicines)\n",
    "        print(\"Total Bill: ₹\", total)\n",
    "\n",
    "# Create Pharma object\n",
    "pharmacy = Pharma()\n",
    "\n",
    "# User A - Adding medicines\n",
    "pharmacy.add_medicine(\"Paracetamol\", 20)\n",
    "pharmacy.add_medicine(\"Cough Syrup\", 50)\n",
    "\n",
    "# User B - Buying medicines\n",
    "user_cart = {\"Paracetamol\": 2, \"Cough Syrup\": 1}  # Medicine name and quantity\n",
    "pharmacy.generate_bill(user_cart)\n"
   ]
  },
  {
   "cell_type": "markdown",
   "metadata": {},
   "source": [
    "**30. Read the file if the file contains number, then return the dictionary based on position and values of the number**"
   ]
  },
  {
   "cell_type": "code",
   "execution_count": 23,
   "metadata": {},
   "outputs": [
    {
     "name": "stdout",
     "output_type": "stream",
     "text": [
      "{3: 23, 13: 3}\n"
     ]
    }
   ],
   "source": [
    "def extract_numbers(file_name):\n",
    "    numbers = {}  \n",
    "    \n",
    "    with open(file_name, \"r\") as file:\n",
    "        words = file.read().split()  \n",
    "    \n",
    "    for index, word in enumerate(words):  \n",
    "        if word.isdigit():  # Check if word is a number\n",
    "            numbers[index] = int(word)  # Store position and number\n",
    "    \n",
    "    return numbers\n",
    "\n",
    "\n",
    "file_name = \"C:\\\\Users\\\\Administrator\\\\Downloads\\\\folder\\\\file.txt\"  \n",
    "result = extract_numbers(file_name)\n",
    "print(result)\n"
   ]
  },
  {
   "cell_type": "markdown",
   "metadata": {},
   "source": [
    "**31. Create a class for file reading file if the file contains number, then return the dictionary based on user object, having sub dictionary position and values of the number against that user file.**"
   ]
  },
  {
   "cell_type": "code",
   "execution_count": 27,
   "metadata": {},
   "outputs": [
    {
     "name": "stdout",
     "output_type": "stream",
     "text": [
      "{'User1': {3: 23, 13: 3}}\n"
     ]
    }
   ],
   "source": [
    "class FileReader:\n",
    "    def __init__(self, file_name):\n",
    "        self.file_name = file_name\n",
    "        self.numbers = {}  # Store position and number\n",
    "\n",
    "    def extract_numbers(self):\n",
    "        with open(self.file_name, \"r\") as file:\n",
    "            words = file.read().split()\n",
    "\n",
    "        self.numbers = {i: int(word) for i, word in enumerate(words) if word.isdigit()}\n",
    "        return self.numbers\n",
    "\n",
    "\n",
    "file1 = FileReader(\"C:\\\\Users\\\\Administrator\\\\Downloads\\\\folder\\\\file.txt\")  \n",
    "\n",
    "\n",
    "# Reading numbers from files\n",
    "user_data = {\"User1\": file1.extract_numbers()}\n",
    "\n",
    "print(user_data)"
   ]
  },
  {
   "cell_type": "markdown",
   "metadata": {},
   "source": [
    "**32. In hotel booking portal, user will enter pan card name and mobile number, store the same information into dictionary after successful booking user will get confirmation number.**"
   ]
  },
  {
   "cell_type": "code",
   "execution_count": 28,
   "metadata": {},
   "outputs": [
    {
     "name": "stdout",
     "output_type": "stream",
     "text": [
      "Booking successful! Your confirmation number is 2244\n"
     ]
    }
   ],
   "source": [
    "import random\n",
    "\n",
    "# Dictionary to store booking details\n",
    "bookings = {}\n",
    "\n",
    "# Get user details\n",
    "name = input(\"Enter PAN Card Name: \")\n",
    "mobile = input(\"Enter Mobile Number: \")\n",
    "\n",
    "# Generate a confirmation number\n",
    "confirmation_number = random.randint(1000, 9999)\n",
    "\n",
    "# Store booking details in dictionary\n",
    "bookings[confirmation_number] = {\"Name\": name, \"Mobile\": mobile}\n",
    "\n",
    "# Show confirmation message\n",
    "print(f\"Booking successful! Your confirmation number is {confirmation_number}\")\n"
   ]
  },
  {
   "cell_type": "markdown",
   "metadata": {},
   "source": [
    "**33. Create a super class user. Having methods register, sing in, sign out. Super class can be inherited by student, professor, admin**"
   ]
  },
  {
   "cell_type": "code",
   "execution_count": 18,
   "metadata": {},
   "outputs": [
    {
     "name": "stdout",
     "output_type": "stream",
     "text": [
      "swara (swara@example.com) registered successfully.\n",
      "swara signed in.\n",
      "swara is studying.\n",
      "swara signed out.\n",
      "mr. kulkarni (kulkarni@example.com) registered successfully.\n",
      "mr. kulkarni signed in.\n",
      "mr. kulkarni is teaching.\n",
      "mr. kulkarni signed out.\n",
      "Admin xyz (xyz@example.com) registered successfully.\n",
      "Admin xyz signed in.\n",
      "Admin xyz is managing the system.\n",
      "Admin xyz signed out.\n"
     ]
    }
   ],
   "source": [
    "class User:\n",
    "    def __init__(self, name, email):\n",
    "        self.name = name\n",
    "        self.email = email\n",
    "    \n",
    "    def register(self):\n",
    "        print(f\"{self.name} ({self.email}) registered successfully.\")\n",
    "    \n",
    "    def sign_in(self):\n",
    "        print(f\"{self.name} signed in.\")\n",
    "    \n",
    "    def sign_out(self):\n",
    "        print(f\"{self.name} signed out.\")\n",
    "\n",
    "# Subclasses inheriting from User\n",
    "class Student(User):\n",
    "    def study(self):\n",
    "        print(f\"{self.name} is studying.\")\n",
    "\n",
    "class Professor(User):\n",
    "    def teach(self):\n",
    "        print(f\"{self.name} is teaching.\")\n",
    "\n",
    "class Admin(User):\n",
    "    def manage(self):\n",
    "        print(f\"{self.name} is managing the system.\")\n",
    "\n",
    "# Example usage\n",
    "student = Student(\"swara\", \"swara@example.com\")\n",
    "student.register()\n",
    "student.sign_in()\n",
    "student.study()\n",
    "student.sign_out()\n",
    "\n",
    "professor = Professor(\"mr. kulkarni\", \"kulkarni@example.com\")\n",
    "professor.register()\n",
    "professor.sign_in()\n",
    "professor.teach()\n",
    "professor.sign_out()\n",
    "\n",
    "admin = Admin(\"Admin xyz\", \"xyz@example.com\")\n",
    "admin.register()\n",
    "admin.sign_in()\n",
    "admin.manage()\n",
    "admin.sign_out()\n"
   ]
  },
  {
   "cell_type": "code",
   "execution_count": 31,
   "metadata": {},
   "outputs": [
    {
     "name": "stdout",
     "output_type": "stream",
     "text": [
      "User registered.\n",
      "User signed in.\n",
      "User signed out.\n"
     ]
    }
   ],
   "source": [
    "class User:\n",
    "    def register(self): print(\"User registered.\")\n",
    "    def sign_in(self): print(\"User signed in.\")\n",
    "    def sign_out(self): print(\"User signed out.\")\n",
    "\n",
    "class Student(User): pass\n",
    "class Professor(User): pass\n",
    "class Admin(User): pass\n",
    "\n",
    "s = Student()\n",
    "s.register()\n",
    "s.sign_in()\n",
    "s.sign_out()\n"
   ]
  },
  {
   "cell_type": "markdown",
   "metadata": {},
   "source": [
    "**34. Create suitable classes, methods and attributes for resume exchange. Employee to upload the file and the same file is visible to employer**"
   ]
  },
  {
   "cell_type": "code",
   "execution_count": 19,
   "metadata": {},
   "outputs": [
    {
     "name": "stdout",
     "output_type": "stream",
     "text": [
      "swara uploaded resume: swara_resume.pdf\n",
      "Employer is viewing swara's resume: swara_resume.pdf\n"
     ]
    }
   ],
   "source": [
    "class Employee:\n",
    "    def __init__(self, name):\n",
    "        self.name = name\n",
    "        self.resume = None\n",
    "\n",
    "    def upload_resume(self, file_name):\n",
    "        self.resume = file_name\n",
    "        print(f\"{self.name} uploaded resume: {file_name}\")\n",
    "\n",
    "class Employer:\n",
    "    def view_resume(self, employee):\n",
    "        if employee.resume:\n",
    "            print(f\"Employer is viewing {employee.name}'s resume: {employee.resume}\")\n",
    "        else:\n",
    "            print(f\"No resume found for {employee.name}\")\n",
    "\n",
    "# Example usage\n",
    "emp = Employee(\"swara\")\n",
    "emp.upload_resume(\"swara_resume.pdf\")\n",
    "\n",
    "employer = Employer()\n",
    "employer.view_resume(emp)\n"
   ]
  },
  {
   "cell_type": "markdown",
   "metadata": {},
   "source": [
    "**35. Perform the database connectivity and save all employee details in the database Like name, mobile, address**\n",
    "\n",
    "\n",
    "**Create the proper class with methods like user information, calculate the salary, apply for the leave, view leaves, approve leaves. Records for leave application should be**stored in dummy table (temporary view). Once the leave is approved then it should move to permanent table.**"
   ]
  }
 ],
 "metadata": {
  "kernelspec": {
   "display_name": "Python 3",
   "language": "python",
   "name": "python3"
  },
  "language_info": {
   "codemirror_mode": {
    "name": "ipython",
    "version": 3
   },
   "file_extension": ".py",
   "mimetype": "text/x-python",
   "name": "python",
   "nbconvert_exporter": "python",
   "pygments_lexer": "ipython3",
   "version": "3.12.3"
  }
 },
 "nbformat": 4,
 "nbformat_minor": 2
}
